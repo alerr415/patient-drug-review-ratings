{
 "cells": [
  {
   "cell_type": "markdown",
   "metadata": {},
   "source": [
    "# Case 3. Patient Drug Review\n",
    "**Neural Networks for Machine Learning Applications**<br>\n",
    "12.03.2023<br>\n",
    "Erik Holopainen, Alejandro Rosales Rodriguez and Brian van den Berg<br>\n",
    "[Information Technology, Bachelor's Degree](https://www.metropolia.fi/en/academics/bachelors-degrees/information-technology)<br>\n",
    "[Metropolia University of Applied Sciences](https://www.metropolia.fi/en)"
   ]
  },
  {
   "cell_type": "markdown",
   "metadata": {},
   "source": [
    "## 1. Introduction\n",
    "\n",
    "This notebook serves as an assignment to test our natural text processing skills in regards of Neural Networks. We will have to preprocess and diagnose written texts whether they're negative, neutral and positive. During this assignment we're actually going to work with a dataset containing drug reviews that was used for a hackaton. Hackaton is a competition and we will be using the predefined testing set that the competition provided to the competitors aswell."
   ]
  },
  {
   "cell_type": "markdown",
   "metadata": {},
   "source": [
    "## 2. Setup\n",
    "\n",
    "The data science/machine learning libraries that we imported are:\n",
    "- tensorflow: Open source library for numerical computation that makes machine learning and developing neural networks faster and easier.\n",
    "- pandas: Fast, powerful, flexible and easy to use open source data analysis and manipulation tool, built on top of the Python programming language.\n",
    "- numpy: Python library used for working with arrays. It also has functions for working in domain of linear algebra, fourier transform, and matrices.\n",
    "- nltk: Leading platform for building Python programs to work with human language data.\n",
    "- sklearn: Simple and efficient tools for predictive data analysis.\n",
    "- matplotlib.pyplot: Comprehensive library for creating static, animated, and interactive visualizations in Python.\n",
    "\n",
    "The regular Python libraries we imported are:\n",
    "- html: Utilities to manipulate HTML.\n",
    "- re: Regular expression matching operations similar to those found in Perl.\n",
    "- sys: variables used or maintained by the interpreter and to functions that interact strongly with the interpreter"
   ]
  },
  {
   "cell_type": "code",
   "execution_count": 27,
   "metadata": {},
   "outputs": [
    {
     "name": "stdout",
     "output_type": "stream",
     "text": [
      "\u001b[1mNotebook Version Register:\u001b[0m\n",
      "[Python 3.10.9 (tags/v3.10.9:1dd9be6, Dec  6 2022, 20:01:21) [MSC v.1934 64 bit (AMD64)]]\n",
      "[tensorflow 2.11.0]\n",
      "[pandas 1.5.3]\n",
      "[numpy 1.24.1]\n",
      "[sklearn 1.2.0]\n",
      "[nltk 3.8.1]\n",
      "[matplotlib 3.6.3]\n"
     ]
    }
   ],
   "source": [
    "# Machine Learning and Data Science\n",
    "import pandas as pd\n",
    "import numpy as np\n",
    "import nltk\n",
    "\n",
    "# Modeling neural networks\n",
    "import tensorflow as tf\n",
    "from keras.models import Sequential\n",
    "from keras.layers import Dense, Embedding, LSTM, Conv1D, MaxPooling1D, Dropout\n",
    "from keras.preprocessing.text import Tokenizer\n",
    "from keras.utils import to_categorical\n",
    "from keras.utils import pad_sequences\n",
    "\n",
    "# Sklearn\n",
    "import sklearn\n",
    "from sklearn.model_selection import train_test_split\n",
    "from sklearn.metrics import classification_report, confusion_matrix\n",
    "from sklearn.utils.class_weight import compute_class_weight\n",
    "\n",
    "# Data Visualization\n",
    "import matplotlib\n",
    "import matplotlib.pyplot as plt\n",
    "import seaborn as sns\n",
    "\n",
    "# General imports\n",
    "import html\n",
    "import re\n",
    "import sys\n",
    "\n",
    "# Print the library versions\n",
    "print('\\033[1m' + 'Notebook Version Register:' + '\\033[0m')\n",
    "print(f'[Python {sys.version}]')\n",
    "print(f'[{tf.__name__} {tf.__version__}]')\n",
    "print(f'[{pd.__name__} {pd.__version__}]')\n",
    "print(f'[{np.__name__} {np.__version__}]')\n",
    "print(f'[{sklearn.__name__} {sklearn.__version__}]')\n",
    "print(f'[{nltk.__name__} {nltk.__version__}]')\n",
    "print(f'[{matplotlib.__name__} {matplotlib.__version__}]')"
   ]
  },
  {
   "cell_type": "markdown",
   "metadata": {},
   "source": [
    "### Download\n",
    "\n",
    "By using the function 'nltk.download('popular')' we are checking if the python environment already has access to the nltk datasets. If the datasets are already there, it marks the requirement as satisfied. If the datasets are outdated or if they're not even there, then nltk downloads the resources for you."
   ]
  },
  {
   "cell_type": "code",
   "execution_count": 28,
   "metadata": {},
   "outputs": [
    {
     "name": "stderr",
     "output_type": "stream",
     "text": [
      "[nltk_data] Downloading collection 'popular'\n",
      "[nltk_data]    | \n",
      "[nltk_data]    | Downloading package cmudict to\n",
      "[nltk_data]    |     C:\\Users\\brian\\AppData\\Roaming\\nltk_data...\n",
      "[nltk_data]    |   Package cmudict is already up-to-date!\n",
      "[nltk_data]    | Downloading package gazetteers to\n",
      "[nltk_data]    |     C:\\Users\\brian\\AppData\\Roaming\\nltk_data...\n",
      "[nltk_data]    |   Package gazetteers is already up-to-date!\n",
      "[nltk_data]    | Downloading package genesis to\n",
      "[nltk_data]    |     C:\\Users\\brian\\AppData\\Roaming\\nltk_data...\n",
      "[nltk_data]    |   Package genesis is already up-to-date!\n",
      "[nltk_data]    | Downloading package gutenberg to\n",
      "[nltk_data]    |     C:\\Users\\brian\\AppData\\Roaming\\nltk_data...\n",
      "[nltk_data]    |   Package gutenberg is already up-to-date!\n",
      "[nltk_data]    | Downloading package inaugural to\n",
      "[nltk_data]    |     C:\\Users\\brian\\AppData\\Roaming\\nltk_data...\n",
      "[nltk_data]    |   Package inaugural is already up-to-date!\n",
      "[nltk_data]    | Downloading package movie_reviews to\n",
      "[nltk_data]    |     C:\\Users\\brian\\AppData\\Roaming\\nltk_data...\n",
      "[nltk_data]    |   Package movie_reviews is already up-to-date!\n",
      "[nltk_data]    | Downloading package names to\n",
      "[nltk_data]    |     C:\\Users\\brian\\AppData\\Roaming\\nltk_data...\n",
      "[nltk_data]    |   Package names is already up-to-date!\n",
      "[nltk_data]    | Downloading package shakespeare to\n",
      "[nltk_data]    |     C:\\Users\\brian\\AppData\\Roaming\\nltk_data...\n",
      "[nltk_data]    |   Package shakespeare is already up-to-date!\n",
      "[nltk_data]    | Downloading package stopwords to\n",
      "[nltk_data]    |     C:\\Users\\brian\\AppData\\Roaming\\nltk_data...\n",
      "[nltk_data]    |   Package stopwords is already up-to-date!\n",
      "[nltk_data]    | Downloading package treebank to\n",
      "[nltk_data]    |     C:\\Users\\brian\\AppData\\Roaming\\nltk_data...\n",
      "[nltk_data]    |   Package treebank is already up-to-date!\n",
      "[nltk_data]    | Downloading package twitter_samples to\n",
      "[nltk_data]    |     C:\\Users\\brian\\AppData\\Roaming\\nltk_data...\n",
      "[nltk_data]    |   Package twitter_samples is already up-to-date!\n",
      "[nltk_data]    | Downloading package omw to\n",
      "[nltk_data]    |     C:\\Users\\brian\\AppData\\Roaming\\nltk_data...\n",
      "[nltk_data]    |   Package omw is already up-to-date!\n",
      "[nltk_data]    | Downloading package omw-1.4 to\n",
      "[nltk_data]    |     C:\\Users\\brian\\AppData\\Roaming\\nltk_data...\n",
      "[nltk_data]    |   Package omw-1.4 is already up-to-date!\n",
      "[nltk_data]    | Downloading package wordnet to\n",
      "[nltk_data]    |     C:\\Users\\brian\\AppData\\Roaming\\nltk_data...\n",
      "[nltk_data]    |   Package wordnet is already up-to-date!\n",
      "[nltk_data]    | Downloading package wordnet2021 to\n",
      "[nltk_data]    |     C:\\Users\\brian\\AppData\\Roaming\\nltk_data...\n",
      "[nltk_data]    |   Package wordnet2021 is already up-to-date!\n",
      "[nltk_data]    | Downloading package wordnet31 to\n",
      "[nltk_data]    |     C:\\Users\\brian\\AppData\\Roaming\\nltk_data...\n",
      "[nltk_data]    |   Package wordnet31 is already up-to-date!\n",
      "[nltk_data]    | Downloading package wordnet_ic to\n",
      "[nltk_data]    |     C:\\Users\\brian\\AppData\\Roaming\\nltk_data...\n",
      "[nltk_data]    |   Package wordnet_ic is already up-to-date!\n",
      "[nltk_data]    | Downloading package words to\n",
      "[nltk_data]    |     C:\\Users\\brian\\AppData\\Roaming\\nltk_data...\n",
      "[nltk_data]    |   Package words is already up-to-date!\n",
      "[nltk_data]    | Downloading package maxent_ne_chunker to\n",
      "[nltk_data]    |     C:\\Users\\brian\\AppData\\Roaming\\nltk_data...\n",
      "[nltk_data]    |   Package maxent_ne_chunker is already up-to-date!\n",
      "[nltk_data]    | Downloading package punkt to\n",
      "[nltk_data]    |     C:\\Users\\brian\\AppData\\Roaming\\nltk_data...\n",
      "[nltk_data]    |   Package punkt is already up-to-date!\n",
      "[nltk_data]    | Downloading package snowball_data to\n",
      "[nltk_data]    |     C:\\Users\\brian\\AppData\\Roaming\\nltk_data...\n",
      "[nltk_data]    |   Package snowball_data is already up-to-date!\n",
      "[nltk_data]    | Downloading package averaged_perceptron_tagger to\n",
      "[nltk_data]    |     C:\\Users\\brian\\AppData\\Roaming\\nltk_data...\n",
      "[nltk_data]    |   Package averaged_perceptron_tagger is already up-\n",
      "[nltk_data]    |       to-date!\n",
      "[nltk_data]    | \n",
      "[nltk_data]  Done downloading collection popular\n"
     ]
    },
    {
     "data": {
      "text/plain": [
       "True"
      ]
     },
     "execution_count": 28,
     "metadata": {},
     "output_type": "execute_result"
    }
   ],
   "source": [
    "# Fetch the nltk datasets\n",
    "nltk.download('popular')"
   ]
  },
  {
   "cell_type": "markdown",
   "metadata": {},
   "source": [
    "## 3. Dataset"
   ]
  },
  {
   "cell_type": "code",
   "execution_count": 29,
   "metadata": {},
   "outputs": [
    {
     "data": {
      "text/html": [
       "<div>\n",
       "<style scoped>\n",
       "    .dataframe tbody tr th:only-of-type {\n",
       "        vertical-align: middle;\n",
       "    }\n",
       "\n",
       "    .dataframe tbody tr th {\n",
       "        vertical-align: top;\n",
       "    }\n",
       "\n",
       "    .dataframe thead th {\n",
       "        text-align: right;\n",
       "    }\n",
       "</style>\n",
       "<table border=\"1\" class=\"dataframe\">\n",
       "  <thead>\n",
       "    <tr style=\"text-align: right;\">\n",
       "      <th></th>\n",
       "      <th>uniqueID</th>\n",
       "      <th>drugName</th>\n",
       "      <th>condition</th>\n",
       "      <th>review</th>\n",
       "      <th>rating</th>\n",
       "      <th>date</th>\n",
       "      <th>usefulCount</th>\n",
       "    </tr>\n",
       "  </thead>\n",
       "  <tbody>\n",
       "    <tr>\n",
       "      <th>0</th>\n",
       "      <td>206461</td>\n",
       "      <td>Valsartan</td>\n",
       "      <td>Left Ventricular Dysfunction</td>\n",
       "      <td>\"It has no side effect, I take it in combinati...</td>\n",
       "      <td>9</td>\n",
       "      <td>20-May-12</td>\n",
       "      <td>27</td>\n",
       "    </tr>\n",
       "    <tr>\n",
       "      <th>1</th>\n",
       "      <td>95260</td>\n",
       "      <td>Guanfacine</td>\n",
       "      <td>ADHD</td>\n",
       "      <td>\"My son is halfway through his fourth week of ...</td>\n",
       "      <td>8</td>\n",
       "      <td>27-Apr-10</td>\n",
       "      <td>192</td>\n",
       "    </tr>\n",
       "    <tr>\n",
       "      <th>2</th>\n",
       "      <td>92703</td>\n",
       "      <td>Lybrel</td>\n",
       "      <td>Birth Control</td>\n",
       "      <td>\"I used to take another oral contraceptive, wh...</td>\n",
       "      <td>5</td>\n",
       "      <td>14-Dec-09</td>\n",
       "      <td>17</td>\n",
       "    </tr>\n",
       "    <tr>\n",
       "      <th>3</th>\n",
       "      <td>138000</td>\n",
       "      <td>Ortho Evra</td>\n",
       "      <td>Birth Control</td>\n",
       "      <td>\"This is my first time using any form of birth...</td>\n",
       "      <td>8</td>\n",
       "      <td>3-Nov-15</td>\n",
       "      <td>10</td>\n",
       "    </tr>\n",
       "    <tr>\n",
       "      <th>4</th>\n",
       "      <td>35696</td>\n",
       "      <td>Buprenorphine / naloxone</td>\n",
       "      <td>Opiate Dependence</td>\n",
       "      <td>\"Suboxone has completely turned my life around...</td>\n",
       "      <td>9</td>\n",
       "      <td>27-Nov-16</td>\n",
       "      <td>37</td>\n",
       "    </tr>\n",
       "    <tr>\n",
       "      <th>...</th>\n",
       "      <td>...</td>\n",
       "      <td>...</td>\n",
       "      <td>...</td>\n",
       "      <td>...</td>\n",
       "      <td>...</td>\n",
       "      <td>...</td>\n",
       "      <td>...</td>\n",
       "    </tr>\n",
       "    <tr>\n",
       "      <th>161292</th>\n",
       "      <td>191035</td>\n",
       "      <td>Campral</td>\n",
       "      <td>Alcohol Dependence</td>\n",
       "      <td>\"I wrote my first report in Mid-October of 201...</td>\n",
       "      <td>10</td>\n",
       "      <td>31-May-15</td>\n",
       "      <td>125</td>\n",
       "    </tr>\n",
       "    <tr>\n",
       "      <th>161293</th>\n",
       "      <td>127085</td>\n",
       "      <td>Metoclopramide</td>\n",
       "      <td>Nausea/Vomiting</td>\n",
       "      <td>\"I was given this in IV before surgey. I immed...</td>\n",
       "      <td>1</td>\n",
       "      <td>1-Nov-11</td>\n",
       "      <td>34</td>\n",
       "    </tr>\n",
       "    <tr>\n",
       "      <th>161294</th>\n",
       "      <td>187382</td>\n",
       "      <td>Orencia</td>\n",
       "      <td>Rheumatoid Arthritis</td>\n",
       "      <td>\"Limited improvement after 4 months, developed...</td>\n",
       "      <td>2</td>\n",
       "      <td>15-Mar-14</td>\n",
       "      <td>35</td>\n",
       "    </tr>\n",
       "    <tr>\n",
       "      <th>161295</th>\n",
       "      <td>47128</td>\n",
       "      <td>Thyroid desiccated</td>\n",
       "      <td>Underactive Thyroid</td>\n",
       "      <td>\"I&amp;#039;ve been on thyroid medication 49 years...</td>\n",
       "      <td>10</td>\n",
       "      <td>19-Sep-15</td>\n",
       "      <td>79</td>\n",
       "    </tr>\n",
       "    <tr>\n",
       "      <th>161296</th>\n",
       "      <td>215220</td>\n",
       "      <td>Lubiprostone</td>\n",
       "      <td>Constipation, Chronic</td>\n",
       "      <td>\"I&amp;#039;ve had chronic constipation all my adu...</td>\n",
       "      <td>9</td>\n",
       "      <td>13-Dec-14</td>\n",
       "      <td>116</td>\n",
       "    </tr>\n",
       "  </tbody>\n",
       "</table>\n",
       "<p>161297 rows × 7 columns</p>\n",
       "</div>"
      ],
      "text/plain": [
       "        uniqueID                  drugName                     condition  \\\n",
       "0         206461                 Valsartan  Left Ventricular Dysfunction   \n",
       "1          95260                Guanfacine                          ADHD   \n",
       "2          92703                    Lybrel                 Birth Control   \n",
       "3         138000                Ortho Evra                 Birth Control   \n",
       "4          35696  Buprenorphine / naloxone             Opiate Dependence   \n",
       "...          ...                       ...                           ...   \n",
       "161292    191035                   Campral            Alcohol Dependence   \n",
       "161293    127085            Metoclopramide               Nausea/Vomiting   \n",
       "161294    187382                   Orencia          Rheumatoid Arthritis   \n",
       "161295     47128        Thyroid desiccated           Underactive Thyroid   \n",
       "161296    215220              Lubiprostone         Constipation, Chronic   \n",
       "\n",
       "                                                   review  rating       date  \\\n",
       "0       \"It has no side effect, I take it in combinati...       9  20-May-12   \n",
       "1       \"My son is halfway through his fourth week of ...       8  27-Apr-10   \n",
       "2       \"I used to take another oral contraceptive, wh...       5  14-Dec-09   \n",
       "3       \"This is my first time using any form of birth...       8   3-Nov-15   \n",
       "4       \"Suboxone has completely turned my life around...       9  27-Nov-16   \n",
       "...                                                   ...     ...        ...   \n",
       "161292  \"I wrote my first report in Mid-October of 201...      10  31-May-15   \n",
       "161293  \"I was given this in IV before surgey. I immed...       1   1-Nov-11   \n",
       "161294  \"Limited improvement after 4 months, developed...       2  15-Mar-14   \n",
       "161295  \"I&#039;ve been on thyroid medication 49 years...      10  19-Sep-15   \n",
       "161296  \"I&#039;ve had chronic constipation all my adu...       9  13-Dec-14   \n",
       "\n",
       "        usefulCount  \n",
       "0                27  \n",
       "1               192  \n",
       "2                17  \n",
       "3                10  \n",
       "4                37  \n",
       "...             ...  \n",
       "161292          125  \n",
       "161293           34  \n",
       "161294           35  \n",
       "161295           79  \n",
       "161296          116  \n",
       "\n",
       "[161297 rows x 7 columns]"
      ]
     },
     "metadata": {},
     "output_type": "display_data"
    },
    {
     "name": "stdout",
     "output_type": "stream",
     "text": [
      "Description of the dataframe:\n"
     ]
    },
    {
     "data": {
      "text/html": [
       "<div>\n",
       "<style scoped>\n",
       "    .dataframe tbody tr th:only-of-type {\n",
       "        vertical-align: middle;\n",
       "    }\n",
       "\n",
       "    .dataframe tbody tr th {\n",
       "        vertical-align: top;\n",
       "    }\n",
       "\n",
       "    .dataframe thead th {\n",
       "        text-align: right;\n",
       "    }\n",
       "</style>\n",
       "<table border=\"1\" class=\"dataframe\">\n",
       "  <thead>\n",
       "    <tr style=\"text-align: right;\">\n",
       "      <th></th>\n",
       "      <th>count</th>\n",
       "      <th>mean</th>\n",
       "      <th>std</th>\n",
       "      <th>min</th>\n",
       "      <th>25%</th>\n",
       "      <th>50%</th>\n",
       "      <th>75%</th>\n",
       "      <th>max</th>\n",
       "    </tr>\n",
       "  </thead>\n",
       "  <tbody>\n",
       "    <tr>\n",
       "      <th>uniqueID</th>\n",
       "      <td>161297.0</td>\n",
       "      <td>115923.585305</td>\n",
       "      <td>67004.445170</td>\n",
       "      <td>2.0</td>\n",
       "      <td>58063.0</td>\n",
       "      <td>115744.0</td>\n",
       "      <td>173776.0</td>\n",
       "      <td>232291.0</td>\n",
       "    </tr>\n",
       "    <tr>\n",
       "      <th>rating</th>\n",
       "      <td>161297.0</td>\n",
       "      <td>6.994377</td>\n",
       "      <td>3.272329</td>\n",
       "      <td>1.0</td>\n",
       "      <td>5.0</td>\n",
       "      <td>8.0</td>\n",
       "      <td>10.0</td>\n",
       "      <td>10.0</td>\n",
       "    </tr>\n",
       "    <tr>\n",
       "      <th>usefulCount</th>\n",
       "      <td>161297.0</td>\n",
       "      <td>28.004755</td>\n",
       "      <td>36.403742</td>\n",
       "      <td>0.0</td>\n",
       "      <td>6.0</td>\n",
       "      <td>16.0</td>\n",
       "      <td>36.0</td>\n",
       "      <td>1291.0</td>\n",
       "    </tr>\n",
       "  </tbody>\n",
       "</table>\n",
       "</div>"
      ],
      "text/plain": [
       "                count           mean           std  min      25%       50%  \\\n",
       "uniqueID     161297.0  115923.585305  67004.445170  2.0  58063.0  115744.0   \n",
       "rating       161297.0       6.994377      3.272329  1.0      5.0       8.0   \n",
       "usefulCount  161297.0      28.004755     36.403742  0.0      6.0      16.0   \n",
       "\n",
       "                  75%       max  \n",
       "uniqueID     173776.0  232291.0  \n",
       "rating           10.0      10.0  \n",
       "usefulCount      36.0    1291.0  "
      ]
     },
     "metadata": {},
     "output_type": "display_data"
    }
   ],
   "source": [
    "# Load in the dataframe\n",
    "df = pd.read_csv('input\\\\drugsComTrain_raw.csv')\n",
    "\n",
    "# Display the dataframe\n",
    "display(df)\n",
    "\n",
    "# Display the dataframe description\n",
    "print(\"Description of the dataframe:\")\n",
    "display(df.describe().T)"
   ]
  },
  {
   "cell_type": "markdown",
   "metadata": {},
   "source": [
    "### Prepare\n",
    "\n",
    "Preparing the training data by calling the prepare_data() function on the DataFrame df. The prepared DataFrame is then displayed using the display() function.\n",
    "\n",
    "+ remove_hashtags(): takes a string as input, and removes any hashtags from it using regular expressions. The function returns the modified string.\n",
    "+ prepare_data(): takes a DataFrame as input, and performs several preprocessing steps on it and prepares the data for  training. The steps include: removing duplicates, decoding HTML-encoded words, dropping rows with NaN or very short reviews, removing hashtags using the remove_hashtags() function. The function returns the preprocessed DataFrame."
   ]
  },
  {
   "cell_type": "code",
   "execution_count": 30,
   "metadata": {},
   "outputs": [
    {
     "data": {
      "text/html": [
       "<div>\n",
       "<style scoped>\n",
       "    .dataframe tbody tr th:only-of-type {\n",
       "        vertical-align: middle;\n",
       "    }\n",
       "\n",
       "    .dataframe tbody tr th {\n",
       "        vertical-align: top;\n",
       "    }\n",
       "\n",
       "    .dataframe thead th {\n",
       "        text-align: right;\n",
       "    }\n",
       "</style>\n",
       "<table border=\"1\" class=\"dataframe\">\n",
       "  <thead>\n",
       "    <tr style=\"text-align: right;\">\n",
       "      <th></th>\n",
       "      <th>uniqueID</th>\n",
       "      <th>drugName</th>\n",
       "      <th>condition</th>\n",
       "      <th>review</th>\n",
       "      <th>rating</th>\n",
       "      <th>date</th>\n",
       "      <th>usefulCount</th>\n",
       "    </tr>\n",
       "  </thead>\n",
       "  <tbody>\n",
       "    <tr>\n",
       "      <th>0</th>\n",
       "      <td>206461</td>\n",
       "      <td>Valsartan</td>\n",
       "      <td>Left Ventricular Dysfunction</td>\n",
       "      <td>\"It has no side effect, I take it in combinati...</td>\n",
       "      <td>9</td>\n",
       "      <td>20-May-12</td>\n",
       "      <td>27</td>\n",
       "    </tr>\n",
       "    <tr>\n",
       "      <th>1</th>\n",
       "      <td>95260</td>\n",
       "      <td>Guanfacine</td>\n",
       "      <td>ADHD</td>\n",
       "      <td>\"My son is halfway through his fourth week of ...</td>\n",
       "      <td>8</td>\n",
       "      <td>27-Apr-10</td>\n",
       "      <td>192</td>\n",
       "    </tr>\n",
       "    <tr>\n",
       "      <th>2</th>\n",
       "      <td>92703</td>\n",
       "      <td>Lybrel</td>\n",
       "      <td>Birth Control</td>\n",
       "      <td>\"I used to take another oral contraceptive, wh...</td>\n",
       "      <td>5</td>\n",
       "      <td>14-Dec-09</td>\n",
       "      <td>17</td>\n",
       "    </tr>\n",
       "    <tr>\n",
       "      <th>3</th>\n",
       "      <td>138000</td>\n",
       "      <td>Ortho Evra</td>\n",
       "      <td>Birth Control</td>\n",
       "      <td>\"This is my first time using any form of birth...</td>\n",
       "      <td>8</td>\n",
       "      <td>3-Nov-15</td>\n",
       "      <td>10</td>\n",
       "    </tr>\n",
       "    <tr>\n",
       "      <th>4</th>\n",
       "      <td>35696</td>\n",
       "      <td>Buprenorphine / naloxone</td>\n",
       "      <td>Opiate Dependence</td>\n",
       "      <td>\"Suboxone has completely turned my life around...</td>\n",
       "      <td>9</td>\n",
       "      <td>27-Nov-16</td>\n",
       "      <td>37</td>\n",
       "    </tr>\n",
       "    <tr>\n",
       "      <th>...</th>\n",
       "      <td>...</td>\n",
       "      <td>...</td>\n",
       "      <td>...</td>\n",
       "      <td>...</td>\n",
       "      <td>...</td>\n",
       "      <td>...</td>\n",
       "      <td>...</td>\n",
       "    </tr>\n",
       "    <tr>\n",
       "      <th>161289</th>\n",
       "      <td>105263</td>\n",
       "      <td>Carbamazepine</td>\n",
       "      <td>Trigeminal Neuralgia</td>\n",
       "      <td>\"Up to 800mg seems to work about once every 2n...</td>\n",
       "      <td>1</td>\n",
       "      <td>31-Jan-16</td>\n",
       "      <td>10</td>\n",
       "    </tr>\n",
       "    <tr>\n",
       "      <th>161290</th>\n",
       "      <td>103458</td>\n",
       "      <td>Tekturna</td>\n",
       "      <td>High Blood Pressure</td>\n",
       "      <td>\"I have only been on Tekturna for 9 days. The ...</td>\n",
       "      <td>7</td>\n",
       "      <td>7-Feb-10</td>\n",
       "      <td>18</td>\n",
       "    </tr>\n",
       "    <tr>\n",
       "      <th>161292</th>\n",
       "      <td>191035</td>\n",
       "      <td>Campral</td>\n",
       "      <td>Alcohol Dependence</td>\n",
       "      <td>\"I wrote my first report in Mid-October of 201...</td>\n",
       "      <td>10</td>\n",
       "      <td>31-May-15</td>\n",
       "      <td>125</td>\n",
       "    </tr>\n",
       "    <tr>\n",
       "      <th>161295</th>\n",
       "      <td>47128</td>\n",
       "      <td>Thyroid desiccated</td>\n",
       "      <td>Underactive Thyroid</td>\n",
       "      <td>\"I've been on thyroid medication 49 years, I s...</td>\n",
       "      <td>10</td>\n",
       "      <td>19-Sep-15</td>\n",
       "      <td>79</td>\n",
       "    </tr>\n",
       "    <tr>\n",
       "      <th>161296</th>\n",
       "      <td>215220</td>\n",
       "      <td>Lubiprostone</td>\n",
       "      <td>Constipation, Chronic</td>\n",
       "      <td>\"I've had chronic constipation all my adult li...</td>\n",
       "      <td>9</td>\n",
       "      <td>13-Dec-14</td>\n",
       "      <td>116</td>\n",
       "    </tr>\n",
       "  </tbody>\n",
       "</table>\n",
       "<p>112329 rows × 7 columns</p>\n",
       "</div>"
      ],
      "text/plain": [
       "        uniqueID                  drugName                     condition  \\\n",
       "0         206461                 Valsartan  Left Ventricular Dysfunction   \n",
       "1          95260                Guanfacine                          ADHD   \n",
       "2          92703                    Lybrel                 Birth Control   \n",
       "3         138000                Ortho Evra                 Birth Control   \n",
       "4          35696  Buprenorphine / naloxone             Opiate Dependence   \n",
       "...          ...                       ...                           ...   \n",
       "161289    105263             Carbamazepine          Trigeminal Neuralgia   \n",
       "161290    103458                  Tekturna           High Blood Pressure   \n",
       "161292    191035                   Campral            Alcohol Dependence   \n",
       "161295     47128        Thyroid desiccated           Underactive Thyroid   \n",
       "161296    215220              Lubiprostone         Constipation, Chronic   \n",
       "\n",
       "                                                   review  rating       date  \\\n",
       "0       \"It has no side effect, I take it in combinati...       9  20-May-12   \n",
       "1       \"My son is halfway through his fourth week of ...       8  27-Apr-10   \n",
       "2       \"I used to take another oral contraceptive, wh...       5  14-Dec-09   \n",
       "3       \"This is my first time using any form of birth...       8   3-Nov-15   \n",
       "4       \"Suboxone has completely turned my life around...       9  27-Nov-16   \n",
       "...                                                   ...     ...        ...   \n",
       "161289  \"Up to 800mg seems to work about once every 2n...       1  31-Jan-16   \n",
       "161290  \"I have only been on Tekturna for 9 days. The ...       7   7-Feb-10   \n",
       "161292  \"I wrote my first report in Mid-October of 201...      10  31-May-15   \n",
       "161295  \"I've been on thyroid medication 49 years, I s...      10  19-Sep-15   \n",
       "161296  \"I've had chronic constipation all my adult li...       9  13-Dec-14   \n",
       "\n",
       "        usefulCount  \n",
       "0                27  \n",
       "1               192  \n",
       "2                17  \n",
       "3                10  \n",
       "4                37  \n",
       "...             ...  \n",
       "161289           10  \n",
       "161290           18  \n",
       "161292          125  \n",
       "161295           79  \n",
       "161296          116  \n",
       "\n",
       "[112329 rows x 7 columns]"
      ]
     },
     "metadata": {},
     "output_type": "display_data"
    }
   ],
   "source": [
    "# Function to remove hashtags from reviews\n",
    "def remove_hashtags(text):\n",
    "    return re.sub(r'#\\w+', '', text)\n",
    "\n",
    "# Function to prepare data for our model\n",
    "def prepare_data(df):\n",
    "    df.drop_duplicates(subset='review', inplace=True)\n",
    "\n",
    "    # Decode HTML-encoded words\n",
    "    df['review'] = df['review'].apply(html.unescape)\n",
    "\n",
    "    # Drop all rows with NaN review and 1 character reviews\n",
    "    df.dropna(subset=['review'], inplace=True)\n",
    "    df = df[df['review'].str.strip().astype(bool)]\n",
    "    df = df[df['review'].str.len() > 1]\n",
    "\n",
    "    # Remove hashtags from reviews\n",
    "    df['review'] = df['review'].apply(remove_hashtags)\n",
    "\n",
    "    return df\n",
    "\n",
    "# Prepare the training data\n",
    "df = prepare_data(df)\n",
    "\n",
    "# Display the current state of our dataframe\n",
    "display(df)"
   ]
  },
  {
   "cell_type": "markdown",
   "metadata": {},
   "source": [
    "## 4. Preprocessing"
   ]
  },
  {
   "cell_type": "markdown",
   "metadata": {},
   "source": [
    "Instructions: Describe:\n",
    "\n",
    "- how the missing values are handled\n",
    "- conversion of textual and categorical data into numerical values (if needed)\n",
    "- how the data is splitted into train, validation and test sets\n",
    "- the features (=input) and labels (=output), and \n",
    "- how the features are normalized or scaled"
   ]
  },
  {
   "cell_type": "markdown",
   "metadata": {},
   "source": [
    "### Splitting Reviews and Labels"
   ]
  },
  {
   "cell_type": "code",
   "execution_count": 31,
   "metadata": {},
   "outputs": [],
   "source": [
    "# Get the reviews\n",
    "X_train = list(df['review'])\n",
    "y_train = list(df['rating'])\n",
    "\n",
    "# Split into Train and Validation sets\n",
    "X_train, X_val, y_train, y_val = train_test_split(X_train, y_train, test_size=.2, random_state=0)"
   ]
  },
  {
   "cell_type": "markdown",
   "metadata": {},
   "source": [
    "### Filtering and Lemmatizing the Reviews"
   ]
  },
  {
   "cell_type": "code",
   "execution_count": 32,
   "metadata": {},
   "outputs": [
    {
     "name": "stdout",
     "output_type": "stream",
     "text": [
      "Before lemmatization:\n",
      "\"Have taken Amaryl 1mg for over a month and still cannot lower my blood sugar below 240. I walk, exercise and careful about what I eat..Help!\"\n",
      "\n",
      "After lemmatization:\n",
      "taken amaryl 1mg month still lower blood sugar walk exercise careful eat help\n"
     ]
    }
   ],
   "source": [
    "# Define the nltk variables\n",
    "en_stopwords = nltk.corpus.stopwords.words('english')\n",
    "lemmatizer = nltk.stem.WordNetLemmatizer()\n",
    "\n",
    "# Function to preprocess text\n",
    "def lemmatize_sentence(sentence):\n",
    "    sentence = nltk.word_tokenize(sentence.lower())\n",
    "    \n",
    "    # process all tokens aslong as they're alpha-numeric (text)\n",
    "    result = []\n",
    "    for token in sentence:\n",
    "        if token not in en_stopwords and token.isalnum() and token.isdigit() == False:\n",
    "            token = lemmatizer.lemmatize(token)\n",
    "            result.append(token)\n",
    "\n",
    "    # Join the seperate strings back into a single string\n",
    "    if len(result) > 0:\n",
    "        sentence = result.pop(0)\n",
    "        for word in result:\n",
    "            sentence += ' ' + word\n",
    "    else:\n",
    "        sentence = ''\n",
    "\n",
    "    return sentence\n",
    "\n",
    "# Print the first sample before lemmatization\n",
    "print('Before lemmatization:')\n",
    "print(X_train[0])\n",
    "\n",
    "# Lemmatize the training data\n",
    "for i in range(len(X_train)):\n",
    "    X_train[i] = lemmatize_sentence(X_train[i])\n",
    "\n",
    "# Print the first sample after lemmatization\n",
    "print('\\nAfter lemmatization:')\n",
    "print(X_train[0])"
   ]
  },
  {
   "cell_type": "markdown",
   "metadata": {},
   "source": [
    "### Tokenizing the Reviews"
   ]
  },
  {
   "cell_type": "code",
   "execution_count": 33,
   "metadata": {
    "execution": {
     "iopub.execute_input": "2023-01-02T10:49:20.651697Z",
     "iopub.status.busy": "2023-01-02T10:49:20.651095Z",
     "iopub.status.idle": "2023-01-02T10:49:20.676158Z",
     "shell.execute_reply": "2023-01-02T10:49:20.674944Z",
     "shell.execute_reply.started": "2023-01-02T10:49:20.651585Z"
    }
   },
   "outputs": [
    {
     "name": "stdout",
     "output_type": "stream",
     "text": [
      "Number of different unique words in tokenizer: 39652\n"
     ]
    }
   ],
   "source": [
    "# Maximum amount of words for the model to process\n",
    "unique_words = set()\n",
    "for review in X_train:\n",
    "    unique_words.update(set(word for word in review.strip().split()))\n",
    "num_words = len(unique_words)\n",
    "print(f'Number of different unique words in tokenizer: {num_words}')\n",
    "\n",
    "# Create a Tokenizer\n",
    "tokenizer = Tokenizer(num_words=num_words)\n",
    "tokenizer.fit_on_texts(X_train)\n",
    "\n",
    "# Tokenize the reviews\n",
    "X_train = tokenizer.texts_to_sequences(X_train)"
   ]
  },
  {
   "cell_type": "markdown",
   "metadata": {},
   "source": [
    "### Padding the Reviews"
   ]
  },
  {
   "cell_type": "code",
   "execution_count": 34,
   "metadata": {},
   "outputs": [
    {
     "name": "stdout",
     "output_type": "stream",
     "text": [
      "Maximum words in a review: 458\n"
     ]
    }
   ],
   "source": [
    "# Get the biggest sequence in the data\n",
    "maxlen = 0\n",
    "for seq in X_train:\n",
    "    if len(seq) > maxlen:\n",
    "        maxlen = len(seq)\n",
    "\n",
    "# Halve it to spare training time\n",
    "maxlen = round(maxlen * .5)\n",
    "print(f'Maximum words in a review: {maxlen}')\n",
    "\n",
    "# Pad the sequences\n",
    "X_train = pad_sequences(X_train, maxlen=maxlen)"
   ]
  },
  {
   "cell_type": "markdown",
   "metadata": {},
   "source": [
    "### Simplify the Labels"
   ]
  },
  {
   "cell_type": "code",
   "execution_count": 35,
   "metadata": {},
   "outputs": [],
   "source": [
    "# Simplification function\n",
    "def simplify(rating):\n",
    "    if rating < 5:\n",
    "        return 0\n",
    "    elif rating <= 6:\n",
    "        return 1\n",
    "    else:\n",
    "        return 2\n",
    "\n",
    "# Simplify the labels\n",
    "y_train = np.array(list(map(simplify, y_train)))"
   ]
  },
  {
   "cell_type": "markdown",
   "metadata": {},
   "source": [
    "### Encode the Labels"
   ]
  },
  {
   "cell_type": "code",
   "execution_count": 36,
   "metadata": {},
   "outputs": [
    {
     "name": "stdout",
     "output_type": "stream",
     "text": [
      "The unique labels are: [0, 1, 2] with a distribution of [22323, 8010, 59530].\n",
      "The class weigths are: {0: 1.341859666412818, 1: 3.7396171452351226, 2: 0.5031804692312}\n"
     ]
    }
   ],
   "source": [
    "# Calculate the class weights\n",
    "total = len(y_train)\n",
    "unique, counts = np.unique(y_train, return_counts=True)\n",
    "class_weight = compute_class_weight('balanced_subsample', classes=unique, y=y_train)\n",
    "\n",
    "# Encode the class weight as a dictionary\n",
    "class_weight = {\n",
    "    0:class_weight[0],\n",
    "    1:class_weight[1],\n",
    "    2:class_weight[2]\n",
    "}\n",
    "\n",
    "# Encode the labels for multi classification\n",
    "y_train = np.array(to_categorical(y_train))\n",
    "\n",
    "# Print the distribution\n",
    "print(f'The unique labels are: [{unique[0]}, {unique[1]}, {unique[2]}] with a distribution of [{counts[0]}, {counts[1]}, {counts[2]}].')\n",
    "print(f'The class weigths are: {class_weight}')"
   ]
  },
  {
   "cell_type": "markdown",
   "metadata": {},
   "source": [
    "### Preprocessing Pipelines"
   ]
  },
  {
   "cell_type": "code",
   "execution_count": 37,
   "metadata": {},
   "outputs": [],
   "source": [
    "# Function to prepare a review for the model\n",
    "def prepare_review(review):\n",
    "    review = lemmatize_sentence(review)\n",
    "    review = tokenizer.texts_to_sequences([review])\n",
    "    return pad_sequences(review, maxlen=maxlen)[0]\n",
    "\n",
    "# Function to prepare an array of arrays for training and testing\n",
    "def prepare_reviews_arr(reviews):\n",
    "    for i in range(len(reviews)):\n",
    "        reviews[i] = prepare_review(reviews[i])\n",
    "    return np.array(reviews)\n",
    "\n",
    "# Function to prepare a labels array for training and testing\n",
    "def prepare_labels_arr(labels):\n",
    "    labels = np.array(list(map(simplify, labels)))\n",
    "    return np.array(to_categorical(labels))"
   ]
  },
  {
   "cell_type": "markdown",
   "metadata": {},
   "source": [
    "### Preprocess the Validation Set"
   ]
  },
  {
   "cell_type": "code",
   "execution_count": 38,
   "metadata": {},
   "outputs": [],
   "source": [
    "# Run the pipeline on the Validation Data\n",
    "X_val = prepare_reviews_arr(X_val)\n",
    "y_val = prepare_labels_arr(y_val)"
   ]
  },
  {
   "cell_type": "markdown",
   "metadata": {},
   "source": [
    "## 5. Modeling"
   ]
  },
  {
   "cell_type": "markdown",
   "metadata": {},
   "source": [
    "Instructions: Write a short description of the model: \n",
    "\n",
    "- selected loss, optimizer and metrics settings, and \n",
    "- the summary of the selected model architecture. "
   ]
  },
  {
   "cell_type": "code",
   "execution_count": 47,
   "metadata": {},
   "outputs": [
    {
     "name": "stdout",
     "output_type": "stream",
     "text": [
      "Model: \"sequential_2\"\n",
      "_________________________________________________________________\n",
      " Layer (type)                Output Shape              Param #   \n",
      "=================================================================\n",
      " embedding_2 (Embedding)     (None, 458, 48)           1903344   \n",
      "                                                                 \n",
      " conv1d_2 (Conv1D)           (None, 452, 32)           10784     \n",
      "                                                                 \n",
      " max_pooling1d_2 (MaxPooling  (None, 90, 32)           0         \n",
      " 1D)                                                             \n",
      "                                                                 \n",
      " lstm_2 (LSTM)               (None, 32)                8320      \n",
      "                                                                 \n",
      " dropout (Dropout)           (None, 32)                0         \n",
      "                                                                 \n",
      " dense_2 (Dense)             (None, 3)                 99        \n",
      "                                                                 \n",
      "=================================================================\n",
      "Total params: 1,922,547\n",
      "Trainable params: 1,922,547\n",
      "Non-trainable params: 0\n",
      "_________________________________________________________________\n"
     ]
    }
   ],
   "source": [
    "# Create an LSTM model\n",
    "model = Sequential([\n",
    "    Embedding(num_words + 1, 48, input_length=maxlen),\n",
    "    Conv1D(32, 7, activation='relu'),\n",
    "    MaxPooling1D(5),\n",
    "    LSTM(32, dropout=.1, recurrent_dropout=.1),\n",
    "    Dropout(.5),\n",
    "    Dense(3, activation='softmax')\n",
    "])\n",
    "\n",
    "# Compile the model\n",
    "model.compile(loss='categorical_crossentropy', optimizer='adam', metrics=['Accuracy', 'Recall'])\n",
    "\n",
    "# Summarize the model\n",
    "model.summary()"
   ]
  },
  {
   "cell_type": "markdown",
   "metadata": {},
   "source": [
    "## 6. Training"
   ]
  },
  {
   "cell_type": "markdown",
   "metadata": {},
   "source": [
    "Instructions: Write a short description of the training process, and document the code for training and the total time spend on it. "
   ]
  },
  {
   "cell_type": "markdown",
   "metadata": {},
   "source": [
    "### Fitting"
   ]
  },
  {
   "cell_type": "code",
   "execution_count": 40,
   "metadata": {},
   "outputs": [
    {
     "name": "stdout",
     "output_type": "stream",
     "text": [
      "Epoch 1/10\n",
      "703/703 [==============================] - 90s 125ms/step - loss: 0.9185 - Accuracy: 0.6063 - recall: 0.4240 - val_loss: 0.8728 - val_Accuracy: 0.6127 - val_recall: 0.4922\n",
      "Epoch 2/10\n",
      "703/703 [==============================] - 87s 123ms/step - loss: 0.7689 - Accuracy: 0.6876 - recall: 0.6051 - val_loss: 0.7803 - val_Accuracy: 0.6610 - val_recall: 0.5836\n",
      "Epoch 3/10\n",
      "703/703 [==============================] - 84s 120ms/step - loss: 0.6494 - Accuracy: 0.7404 - recall: 0.6832 - val_loss: 0.8467 - val_Accuracy: 0.6357 - val_recall: 0.5712\n",
      "Epoch 4/10\n",
      "703/703 [==============================] - 84s 120ms/step - loss: 0.5078 - Accuracy: 0.7980 - recall: 0.7561 - val_loss: 0.9193 - val_Accuracy: 0.6290 - val_recall: 0.5837\n",
      "Epoch 5/10\n",
      "703/703 [==============================] - 86s 122ms/step - loss: 0.3695 - Accuracy: 0.8508 - recall: 0.8212 - val_loss: 0.9682 - val_Accuracy: 0.6748 - val_recall: 0.6432\n",
      "Epoch 6/10\n",
      "703/703 [==============================] - 84s 120ms/step - loss: 0.2745 - Accuracy: 0.8868 - recall: 0.8639 - val_loss: 1.0992 - val_Accuracy: 0.6741 - val_recall: 0.6480\n",
      "Epoch 7/10\n",
      "703/703 [==============================] - 86s 122ms/step - loss: 0.2136 - Accuracy: 0.9106 - recall: 0.8915 - val_loss: 1.1605 - val_Accuracy: 0.6958 - val_recall: 0.6690\n",
      "Epoch 8/10\n",
      "703/703 [==============================] - 86s 122ms/step - loss: 0.1757 - Accuracy: 0.9268 - recall: 0.9089 - val_loss: 1.2273 - val_Accuracy: 0.6878 - val_recall: 0.6629\n",
      "Epoch 9/10\n",
      "703/703 [==============================] - 84s 120ms/step - loss: 0.1495 - Accuracy: 0.9356 - recall: 0.9218 - val_loss: 1.3702 - val_Accuracy: 0.6866 - val_recall: 0.6727\n",
      "Epoch 10/10\n",
      "703/703 [==============================] - 86s 122ms/step - loss: 0.1257 - Accuracy: 0.9449 - recall: 0.9321 - val_loss: 1.4525 - val_Accuracy: 0.6809 - val_recall: 0.6618\n"
     ]
    }
   ],
   "source": [
    "# Model Fitting\n",
    "history = model.fit(\n",
    "    X_train, y_train,\n",
    "    class_weight=class_weight,\n",
    "    batch_size=128,\n",
    "    epochs=10,\n",
    "    verbose=1,\n",
    "    validation_data=(X_val, y_val)\n",
    ")"
   ]
  },
  {
   "cell_type": "markdown",
   "metadata": {},
   "source": [
    "## 7. Performance and evaluation"
   ]
  },
  {
   "cell_type": "markdown",
   "metadata": {},
   "source": [
    "Instructions: \n",
    "\n",
    "- Show the training and validation loss and accuracy plots\n",
    "- Interpret the loss and accuracy plots (e.g. is there under- or over-fitting)\n",
    "- Describe the final performance of the model with test set "
   ]
  },
  {
   "cell_type": "code",
   "execution_count": 41,
   "metadata": {},
   "outputs": [
    {
     "data": {
      "image/png": "[encoded data removed]",
      "text/plain": [
       "<Figure size 960x400 with 2 Axes>"
      ]
     },
     "metadata": {},
     "output_type": "display_data"
    }
   ],
   "source": [
    "# Define a function to plot the loss curve\n",
    "def plotLoss(h, name):\n",
    "    plt.plot(h.history['loss'], label='train')\n",
    "    plt.plot(h.history['val_loss'], label='validation')\n",
    "    plt.title('{0} Training Loss'.format(name))\n",
    "    plt.xlabel('Epoch')\n",
    "    plt.ylabel('Error')\n",
    "    plt.legend()\n",
    "    plt.grid(True)\n",
    "\n",
    "# Plot the Accuracy curve\n",
    "def plotAccuracy(h, name):\n",
    "    plt.plot(h.history['Accuracy'], label='train')\n",
    "    plt.plot(h.history['val_Accuracy'], label='validation')\n",
    "    plt.title('{0} Training Accuracy'.format(name))\n",
    "    plt.xlabel('Epoch')\n",
    "    plt.ylabel('Accuracy')\n",
    "    plt.legend()\n",
    "    plt.grid(True)\n",
    "\n",
    "# Define the sub-plot size\n",
    "nCols = 2\n",
    "nRows = 1\n",
    "\n",
    "# Prepare the Loss Plots\n",
    "plt.figure(figsize=(nCols * 6, nRows * 5), dpi=80)\n",
    "\n",
    "# Plot the Loss\n",
    "plt.subplot(nRows, nCols, 1)\n",
    "plotLoss(history, 'Model')\n",
    "\n",
    "# Plot the Accuracy\n",
    "plt.subplot(nRows, nCols, 2)\n",
    "plotAccuracy(history, 'Model')\n",
    "\n",
    "# Draw the plots\n",
    "plt.show()\n",
    "\n"
   ]
  },
  {
   "cell_type": "markdown",
   "metadata": {},
   "source": [
    "### Load in the Test Data"
   ]
  },
  {
   "cell_type": "code",
   "execution_count": 42,
   "metadata": {},
   "outputs": [
    {
     "data": {
      "text/html": [
       "<div>\n",
       "<style scoped>\n",
       "    .dataframe tbody tr th:only-of-type {\n",
       "        vertical-align: middle;\n",
       "    }\n",
       "\n",
       "    .dataframe tbody tr th {\n",
       "        vertical-align: top;\n",
       "    }\n",
       "\n",
       "    .dataframe thead th {\n",
       "        text-align: right;\n",
       "    }\n",
       "</style>\n",
       "<table border=\"1\" class=\"dataframe\">\n",
       "  <thead>\n",
       "    <tr style=\"text-align: right;\">\n",
       "      <th></th>\n",
       "      <th>uniqueID</th>\n",
       "      <th>drugName</th>\n",
       "      <th>condition</th>\n",
       "      <th>review</th>\n",
       "      <th>rating</th>\n",
       "      <th>date</th>\n",
       "      <th>usefulCount</th>\n",
       "    </tr>\n",
       "  </thead>\n",
       "  <tbody>\n",
       "    <tr>\n",
       "      <th>0</th>\n",
       "      <td>163740</td>\n",
       "      <td>Mirtazapine</td>\n",
       "      <td>Depression</td>\n",
       "      <td>\"I&amp;#039;ve tried a few antidepressants over th...</td>\n",
       "      <td>10</td>\n",
       "      <td>28-Feb-12</td>\n",
       "      <td>22</td>\n",
       "    </tr>\n",
       "    <tr>\n",
       "      <th>1</th>\n",
       "      <td>206473</td>\n",
       "      <td>Mesalamine</td>\n",
       "      <td>Crohn's Disease, Maintenance</td>\n",
       "      <td>\"My son has Crohn&amp;#039;s disease and has done ...</td>\n",
       "      <td>8</td>\n",
       "      <td>17-May-09</td>\n",
       "      <td>17</td>\n",
       "    </tr>\n",
       "    <tr>\n",
       "      <th>2</th>\n",
       "      <td>159672</td>\n",
       "      <td>Bactrim</td>\n",
       "      <td>Urinary Tract Infection</td>\n",
       "      <td>\"Quick reduction of symptoms\"</td>\n",
       "      <td>9</td>\n",
       "      <td>29-Sep-17</td>\n",
       "      <td>3</td>\n",
       "    </tr>\n",
       "    <tr>\n",
       "      <th>3</th>\n",
       "      <td>39293</td>\n",
       "      <td>Contrave</td>\n",
       "      <td>Weight Loss</td>\n",
       "      <td>\"Contrave combines drugs that were used for al...</td>\n",
       "      <td>9</td>\n",
       "      <td>5-Mar-17</td>\n",
       "      <td>35</td>\n",
       "    </tr>\n",
       "    <tr>\n",
       "      <th>4</th>\n",
       "      <td>97768</td>\n",
       "      <td>Cyclafem 1 / 35</td>\n",
       "      <td>Birth Control</td>\n",
       "      <td>\"I have been on this birth control for one cyc...</td>\n",
       "      <td>9</td>\n",
       "      <td>22-Oct-15</td>\n",
       "      <td>4</td>\n",
       "    </tr>\n",
       "    <tr>\n",
       "      <th>...</th>\n",
       "      <td>...</td>\n",
       "      <td>...</td>\n",
       "      <td>...</td>\n",
       "      <td>...</td>\n",
       "      <td>...</td>\n",
       "      <td>...</td>\n",
       "      <td>...</td>\n",
       "    </tr>\n",
       "    <tr>\n",
       "      <th>53761</th>\n",
       "      <td>159999</td>\n",
       "      <td>Tamoxifen</td>\n",
       "      <td>Breast Cancer, Prevention</td>\n",
       "      <td>\"I have taken Tamoxifen for 5 years. Side effe...</td>\n",
       "      <td>10</td>\n",
       "      <td>13-Sep-14</td>\n",
       "      <td>43</td>\n",
       "    </tr>\n",
       "    <tr>\n",
       "      <th>53762</th>\n",
       "      <td>140714</td>\n",
       "      <td>Escitalopram</td>\n",
       "      <td>Anxiety</td>\n",
       "      <td>\"I&amp;#039;ve been taking Lexapro (escitaploprgra...</td>\n",
       "      <td>9</td>\n",
       "      <td>8-Oct-16</td>\n",
       "      <td>11</td>\n",
       "    </tr>\n",
       "    <tr>\n",
       "      <th>53763</th>\n",
       "      <td>130945</td>\n",
       "      <td>Levonorgestrel</td>\n",
       "      <td>Birth Control</td>\n",
       "      <td>\"I&amp;#039;m married, 34 years old and I have no ...</td>\n",
       "      <td>8</td>\n",
       "      <td>15-Nov-10</td>\n",
       "      <td>7</td>\n",
       "    </tr>\n",
       "    <tr>\n",
       "      <th>53764</th>\n",
       "      <td>47656</td>\n",
       "      <td>Tapentadol</td>\n",
       "      <td>Pain</td>\n",
       "      <td>\"I was prescribed Nucynta for severe neck/shou...</td>\n",
       "      <td>1</td>\n",
       "      <td>28-Nov-11</td>\n",
       "      <td>20</td>\n",
       "    </tr>\n",
       "    <tr>\n",
       "      <th>53765</th>\n",
       "      <td>113712</td>\n",
       "      <td>Arthrotec</td>\n",
       "      <td>Sciatica</td>\n",
       "      <td>\"It works!!!\"</td>\n",
       "      <td>9</td>\n",
       "      <td>13-Sep-09</td>\n",
       "      <td>46</td>\n",
       "    </tr>\n",
       "  </tbody>\n",
       "</table>\n",
       "<p>53766 rows × 7 columns</p>\n",
       "</div>"
      ],
      "text/plain": [
       "       uniqueID         drugName                     condition  \\\n",
       "0        163740      Mirtazapine                    Depression   \n",
       "1        206473       Mesalamine  Crohn's Disease, Maintenance   \n",
       "2        159672          Bactrim       Urinary Tract Infection   \n",
       "3         39293         Contrave                   Weight Loss   \n",
       "4         97768  Cyclafem 1 / 35                 Birth Control   \n",
       "...         ...              ...                           ...   \n",
       "53761    159999        Tamoxifen     Breast Cancer, Prevention   \n",
       "53762    140714     Escitalopram                       Anxiety   \n",
       "53763    130945   Levonorgestrel                 Birth Control   \n",
       "53764     47656       Tapentadol                          Pain   \n",
       "53765    113712        Arthrotec                      Sciatica   \n",
       "\n",
       "                                                  review  rating       date  \\\n",
       "0      \"I&#039;ve tried a few antidepressants over th...      10  28-Feb-12   \n",
       "1      \"My son has Crohn&#039;s disease and has done ...       8  17-May-09   \n",
       "2                          \"Quick reduction of symptoms\"       9  29-Sep-17   \n",
       "3      \"Contrave combines drugs that were used for al...       9   5-Mar-17   \n",
       "4      \"I have been on this birth control for one cyc...       9  22-Oct-15   \n",
       "...                                                  ...     ...        ...   \n",
       "53761  \"I have taken Tamoxifen for 5 years. Side effe...      10  13-Sep-14   \n",
       "53762  \"I&#039;ve been taking Lexapro (escitaploprgra...       9   8-Oct-16   \n",
       "53763  \"I&#039;m married, 34 years old and I have no ...       8  15-Nov-10   \n",
       "53764  \"I was prescribed Nucynta for severe neck/shou...       1  28-Nov-11   \n",
       "53765                                      \"It works!!!\"       9  13-Sep-09   \n",
       "\n",
       "       usefulCount  \n",
       "0               22  \n",
       "1               17  \n",
       "2                3  \n",
       "3               35  \n",
       "4                4  \n",
       "...            ...  \n",
       "53761           43  \n",
       "53762           11  \n",
       "53763            7  \n",
       "53764           20  \n",
       "53765           46  \n",
       "\n",
       "[53766 rows x 7 columns]"
      ]
     },
     "metadata": {},
     "output_type": "display_data"
    },
    {
     "name": "stdout",
     "output_type": "stream",
     "text": [
      "Description of the dataframe:\n"
     ]
    },
    {
     "data": {
      "text/html": [
       "<div>\n",
       "<style scoped>\n",
       "    .dataframe tbody tr th:only-of-type {\n",
       "        vertical-align: middle;\n",
       "    }\n",
       "\n",
       "    .dataframe tbody tr th {\n",
       "        vertical-align: top;\n",
       "    }\n",
       "\n",
       "    .dataframe thead th {\n",
       "        text-align: right;\n",
       "    }\n",
       "</style>\n",
       "<table border=\"1\" class=\"dataframe\">\n",
       "  <thead>\n",
       "    <tr style=\"text-align: right;\">\n",
       "      <th></th>\n",
       "      <th>count</th>\n",
       "      <th>mean</th>\n",
       "      <th>std</th>\n",
       "      <th>min</th>\n",
       "      <th>25%</th>\n",
       "      <th>50%</th>\n",
       "      <th>75%</th>\n",
       "      <th>max</th>\n",
       "    </tr>\n",
       "  </thead>\n",
       "  <tbody>\n",
       "    <tr>\n",
       "      <th>uniqueID</th>\n",
       "      <td>53766.0</td>\n",
       "      <td>116386.701187</td>\n",
       "      <td>67017.739881</td>\n",
       "      <td>0.0</td>\n",
       "      <td>58272.5</td>\n",
       "      <td>116248.5</td>\n",
       "      <td>174586.75</td>\n",
       "      <td>232284.0</td>\n",
       "    </tr>\n",
       "    <tr>\n",
       "      <th>rating</th>\n",
       "      <td>53766.0</td>\n",
       "      <td>6.976900</td>\n",
       "      <td>3.285207</td>\n",
       "      <td>1.0</td>\n",
       "      <td>4.0</td>\n",
       "      <td>8.0</td>\n",
       "      <td>10.00</td>\n",
       "      <td>10.0</td>\n",
       "    </tr>\n",
       "    <tr>\n",
       "      <th>usefulCount</th>\n",
       "      <td>53766.0</td>\n",
       "      <td>27.989752</td>\n",
       "      <td>36.172833</td>\n",
       "      <td>0.0</td>\n",
       "      <td>6.0</td>\n",
       "      <td>16.0</td>\n",
       "      <td>36.00</td>\n",
       "      <td>949.0</td>\n",
       "    </tr>\n",
       "  </tbody>\n",
       "</table>\n",
       "</div>"
      ],
      "text/plain": [
       "               count           mean           std  min      25%       50%  \\\n",
       "uniqueID     53766.0  116386.701187  67017.739881  0.0  58272.5  116248.5   \n",
       "rating       53766.0       6.976900      3.285207  1.0      4.0       8.0   \n",
       "usefulCount  53766.0      27.989752     36.172833  0.0      6.0      16.0   \n",
       "\n",
       "                   75%       max  \n",
       "uniqueID     174586.75  232284.0  \n",
       "rating           10.00      10.0  \n",
       "usefulCount      36.00     949.0  "
      ]
     },
     "metadata": {},
     "output_type": "display_data"
    }
   ],
   "source": [
    "# Load in the dataframe\n",
    "df = pd.read_csv('input\\\\drugsComTest_raw.csv')\n",
    "\n",
    "# Display the dataframe\n",
    "display(df)\n",
    "\n",
    "# Display the dataframe description\n",
    "print(\"Description of the dataframe:\")\n",
    "display(df.describe().T)"
   ]
  },
  {
   "cell_type": "markdown",
   "metadata": {},
   "source": [
    "### Preprocess the Testing Set"
   ]
  },
  {
   "cell_type": "code",
   "execution_count": 43,
   "metadata": {},
   "outputs": [],
   "source": [
    "# Prepare the dataset\n",
    "df = prepare_data(df)\n",
    "\n",
    "# Split the Testing Data\n",
    "X_test = list(df['review'])\n",
    "y_test = list(df['rating'])\n",
    "\n",
    "# Preprocess the reviews and labels\n",
    "X_test = prepare_reviews_arr(X_test)\n",
    "y_test = prepare_labels_arr(y_test)"
   ]
  },
  {
   "cell_type": "markdown",
   "metadata": {},
   "source": [
    "### Evaluate the Model"
   ]
  },
  {
   "cell_type": "code",
   "execution_count": 44,
   "metadata": {},
   "outputs": [
    {
     "name": "stdout",
     "output_type": "stream",
     "text": [
      "1509/1509 [==============================] - 11s 7ms/step - loss: 0.7336 - Accuracy: 0.8329 - recall: 0.8151\n"
     ]
    }
   ],
   "source": [
    "# Evaluate the Model\n",
    "loss, accuracy, recall = model.evaluate(X_test, y_test, verbose=1)"
   ]
  },
  {
   "cell_type": "markdown",
   "metadata": {},
   "source": [
    "### Classification Report"
   ]
  },
  {
   "cell_type": "code",
   "execution_count": 45,
   "metadata": {},
   "outputs": [
    {
     "name": "stdout",
     "output_type": "stream",
     "text": [
      "1509/1509 [==============================] - 11s 7ms/step\n",
      "Classification Report:\n",
      "               precision    recall  f1-score   support\n",
      "\n",
      "    negative       0.77      0.80      0.78     12097\n",
      "     neutral       0.52      0.63      0.57      4335\n",
      "    positive       0.91      0.87      0.89     31848\n",
      "\n",
      "    accuracy                           0.83     48280\n",
      "   macro avg       0.73      0.77      0.75     48280\n",
      "weighted avg       0.84      0.83      0.84     48280\n",
      "\n"
     ]
    }
   ],
   "source": [
    "# Evaluate the model\n",
    "y_pred = model.predict(X_test)\n",
    "\n",
    "# Prepare the arrays\n",
    "y_pred = np.argmax(y_pred, axis=1)\n",
    "y_test = np.argmax(y_test, axis=1)\n",
    "\n",
    "# Print the Classification Report\n",
    "target_names = ['negative', 'neutral', 'positive']\n",
    "print('Classification Report:\\n', classification_report(y_test, y_pred, target_names=target_names, zero_division=1))"
   ]
  },
  {
   "cell_type": "markdown",
   "metadata": {},
   "source": [
    "### Confusion Matrix"
   ]
  },
  {
   "cell_type": "code",
   "execution_count": 46,
   "metadata": {},
   "outputs": [
    {
     "data": {
      "image/png": "[encoded data removed]",
      "text/plain": [
       "<Figure size 500x500 with 2 Axes>"
      ]
     },
     "metadata": {},
     "output_type": "display_data"
    }
   ],
   "source": [
    "# Plot the Confusion Matrix\n",
    "matrix = confusion_matrix(y_test, y_pred)\n",
    "plt.figure(figsize=(5, 5))\n",
    "sns.heatmap(matrix, annot=True, fmt='d', xticklabels=target_names, yticklabels=target_names)\n",
    "plt.title('Confusion Matrix')\n",
    "plt.ylabel('Actual')\n",
    "plt.xlabel('Predicted')\n",
    "plt.show()"
   ]
  },
  {
   "cell_type": "markdown",
   "metadata": {},
   "source": [
    "## 8. Discussion and conclusions"
   ]
  },
  {
   "cell_type": "markdown",
   "metadata": {},
   "source": [
    "Instructions: Write\n",
    "\n",
    "- What settings and models were tested before the best model was found\n",
    "    - What where the results of these experiments \n",
    "- Summary of  \n",
    "    - What was your best model and its settings \n",
    "    - What was the final achieved performance \n",
    "- What are your main observations and learning points\n",
    "- Discussion how the model could be improved in future \n",
    "\n",
    "**Note:** Remember to evaluate the final metrics using the test set. \n"
   ]
  },
  {
   "cell_type": "markdown",
   "metadata": {},
   "source": []
  }
 ],
 "metadata": {
  "kernelspec": {
   "display_name": "Python 3 (ipykernel)",
   "language": "python",
   "name": "python3"
  },
  "language_info": {
   "codemirror_mode": {
    "name": "ipython",
    "version": 3
   },
   "file_extension": ".py",
   "mimetype": "text/x-python",
   "name": "python",
   "nbconvert_exporter": "python",
   "pygments_lexer": "ipython3",
   "version": "3.9.13"
  },
  "vscode": {
   "interpreter": {
    "hash": "51923b56f38a5b3424ee861e1200c08869906ff2215aafed0340f54392de6f99"
   }
  }
 },
 "nbformat": 4,
 "nbformat_minor": 4
}
